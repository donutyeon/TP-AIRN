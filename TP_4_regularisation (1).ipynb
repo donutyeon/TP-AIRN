{
 "cells": [
  {
   "cell_type": "markdown",
   "metadata": {},
   "source": [
    "# TP 4 Regression logistique avec régularisation\n",
    "Dans ce TP, nous aimerions faire une classification binaire en utilisant la régression.\n",
    "\n",
    "Pour ce faire, nous étudierons un ensemble de données avec la variable  (y) representant la commercialisation d'un profuit et les caractéristiques (X) representant les résultat des tests de qualité test 1 et test 2 du produit.\n",
    "\n",
    "La prédiction se fera avec l'agorithme de descente du gradient avec régularisation."
   ]
  },
  {
   "cell_type": "markdown",
   "metadata": {},
   "source": [
    "# Importation des librairies necessaires au travail"
   ]
  },
  {
   "cell_type": "code",
   "execution_count": 1,
   "metadata": {},
   "outputs": [],
   "source": [
    "import numpy as np\n",
    "import matplotlib.pyplot as plt\n",
    "import sklearn.linear_model as sklearn\n"
   ]
  },
  {
   "cell_type": "markdown",
   "metadata": {},
   "source": [
    "# Lecture des fichiers de données\n",
    "Pour ce TP, nous allons lire les données à partir d'un fichier csv."
   ]
  },
  {
   "cell_type": "code",
   "execution_count": 2,
   "metadata": {},
   "outputs": [
    {
     "data": {
      "text/plain": [
       "(118, 3)"
      ]
     },
     "execution_count": 2,
     "metadata": {},
     "output_type": "execute_result"
    }
   ],
   "source": [
    "# données\n",
    "data = np.genfromtxt('data.csv', delimiter=',', dtype=float)\n",
    "data.shape"
   ]
  },
  {
   "cell_type": "markdown",
   "metadata": {},
   "source": [
    "Dans ces données (data), la première colonne represente la première note, la deuxieme colonne la deuxième note et la troisième colonne represente la commercialisation (1 oui 0 non).\n",
    "\n",
    "Chaque ligne represente un exemple de notre ensemble de données. \n",
    "\n",
    "Mettons ces données dans leus vecteurs correspondants."
   ]
  },
  {
   "cell_type": "code",
   "execution_count": 3,
   "metadata": {},
   "outputs": [],
   "source": [
    "# rajoutons l'ordonnée à l'origine theta 0\n",
    "intercept=np.ones((data.shape[0],1))\n",
    "X=np.column_stack((intercept,data[:,0:2]))\n",
    "y = data[:, 2]"
   ]
  },
  {
   "cell_type": "code",
   "execution_count": 4,
   "metadata": {},
   "outputs": [
    {
     "name": "stdout",
     "output_type": "stream",
     "text": [
      "X (118, 3)  y  (118,)\n"
     ]
    }
   ],
   "source": [
    "print('X', X.shape ,' y ', y.shape)"
   ]
  },
  {
   "cell_type": "markdown",
   "metadata": {},
   "source": [
    "# Transformation de données\n",
    "Dans cette partie, nous aimerions transformer nos données afin d'avoir une fonction polynomiale de degrée 6.\n",
    "\n",
    "La fonction sera:\n",
    "\n",
    "$x_0=1$\n",
    "\n",
    "$x_1=x_1$\n",
    "\n",
    "$x_2=x_2$\n",
    "\n",
    "$x_3={x_1}^2$\n",
    "\n",
    "$x_4={x_1}x_2$\n",
    "\n",
    "$x_5={x_2}^2$\n",
    "\n",
    "$x_6={x_1}^3$\n",
    "\n",
    "$x_7={x_1}^2 x_2$\n",
    "\n",
    "$x_8= x_1 {x_2}^2$\n",
    "\n",
    "$x_9= {x_2}^3$\n",
    "\n",
    "...\n"
   ]
  },
  {
   "cell_type": "markdown",
   "metadata": {},
   "source": [
    "Pour un polynme de degrée 6 à 2 variables nous aurons 28 caracteristiques\n",
    "\n",
    "**Question**: comment avons nous trouvé ce chiffre?\n",
    "\n",
    "**Astuce**: référez vous aux probabilités"
   ]
  },
  {
   "cell_type": "code",
   "execution_count": 5,
   "metadata": {},
   "outputs": [],
   "source": [
    "def mapping(X):\n",
    "    \n",
    "    cols = 28\n",
    "    degree=7\n",
    "    outX= np.ones((X.shape[0],cols))\n",
    "    X1=X[:,1]\n",
    "    X2=X[:,2]\n",
    "    k=0\n",
    "    for i in range(degree):\n",
    "        for j in range(i+1):\n",
    "            outX[:, k] = np.power(X1,i-j)*(np.power(X2,j))\n",
    "            k=k+1\n",
    "    return outX    \n"
   ]
  },
  {
   "cell_type": "code",
   "execution_count": 6,
   "metadata": {},
   "outputs": [
    {
     "data": {
      "text/plain": [
       "(118, 28)"
      ]
     },
     "execution_count": 6,
     "metadata": {},
     "output_type": "execute_result"
    }
   ],
   "source": [
    "X2=mapping(X)\n",
    "X2.shape"
   ]
  },
  {
   "cell_type": "markdown",
   "metadata": {},
   "source": [
    "# Descente du Gradient : Préparation des fonctions"
   ]
  },
  {
   "cell_type": "markdown",
   "metadata": {},
   "source": [
    "0- Fonction mpgistique (Sigmoid)"
   ]
  },
  {
   "cell_type": "code",
   "execution_count": 7,
   "metadata": {},
   "outputs": [],
   "source": [
    "def Sigmoid(z):\n",
    "    # pour une valeur donnée, cette fonction calculera sa sigmoid\n",
    "    return 1/(1+np.exp(-z))\n",
    " "
   ]
  },
  {
   "cell_type": "code",
   "execution_count": 8,
   "metadata": {},
   "outputs": [
    {
     "data": {
      "text/plain": [
       "4.5397868702434395e-05"
      ]
     },
     "execution_count": 8,
     "metadata": {},
     "output_type": "execute_result"
    }
   ],
   "source": [
    "k=Sigmoid(-10)\n",
    "k"
   ]
  },
  {
   "cell_type": "markdown",
   "metadata": {},
   "source": [
    "1- Calcul du coût\n",
    "\n",
    "Cette fonction servira à calculer le cout $J(\\theta_0,\\theta_1)$\n",
    "\n",
    "Elle prendra l'ensemble de données d'apprentissage en entrée ainsi que les paramètres définis initialement"
   ]
  },
  {
   "cell_type": "code",
   "execution_count": 9,
   "metadata": {},
   "outputs": [],
   "source": [
    "def computeCostReg(X, y, theta, lambdaa):\n",
    "    h = Sigmoid(X.dot(theta))\n",
    "    #étant donné que nous travaillons avec log, pour eviter les problèmes nous ajoutons ou enlevons une valeur epsilon aux valeurs 0 et 1\n",
    "    h[h == 0.] += np.finfo(float).eps\n",
    "    h[h == 1.] -= np.finfo(float).eps\n",
    "    \n",
    "    return ( lambdaa * np.sum(np.power(theta[1:],2)) /2 - np.sum(((y * np.log(h)) + ((1-y) * np.log(1-h)))) )/ X.shape[0] "
   ]
  },
  {
   "cell_type": "markdown",
   "metadata": {},
   "source": [
    "2- Fonction de la descente du gradient\n",
    "\n",
    "Cette fonction mettra à jour les paramètres $\\theta_0,\\theta_1$ jusqu'à convergence: atteinte du nombre d'itérations max, ou dérivée assez petite."
   ]
  },
  {
   "cell_type": "code",
   "execution_count": 10,
   "metadata": {},
   "outputs": [],
   "source": [
    "def gradientDescent(X, y, theta, alpha, lambdaa, iterations):\n",
    "    # garder aussi le cout à chaque itération \n",
    "    # pour afficher le coût en fonction de theta0 et theta1 \n",
    "\n",
    "    global cost \n",
    "    for i in range(iterations):\n",
    "        cost.append(computeCostReg(X, y.reshape( y.shape[0], 1), theta, lambdaa))\n",
    "        h = Sigmoid(X.dot(theta))\n",
    "        theta = theta * (1- alpha * lambdaa / X.shape[0])- (X.T * (h.reshape(h.shape[0]) - y)).sum(axis=1).reshape(X.shape[1], 1) * alpha\n",
    "        theta[0]-=alpha*(theta[0]*lambdaa)/X.shape[0]\n",
    "    return theta "
   ]
  },
  {
   "cell_type": "markdown",
   "metadata": {},
   "source": [
    "# Descente du Gradient : Appel des fonctions"
   ]
  },
  {
   "cell_type": "markdown",
   "metadata": {},
   "source": [
    "Initialisation de $\\theta_0$ et $\\theta_1$"
   ]
  },
  {
   "cell_type": "code",
   "execution_count": 11,
   "metadata": {},
   "outputs": [],
   "source": [
    "n=X2.shape[1]\n",
    "theta = np.zeros((n, 1))"
   ]
  },
  {
   "cell_type": "markdown",
   "metadata": {},
   "source": [
    "Calculer le cout initial"
   ]
  },
  {
   "cell_type": "code",
   "execution_count": 12,
   "metadata": {},
   "outputs": [
    {
     "name": "stdout",
     "output_type": "stream",
     "text": [
      "0.6931471805599454\n"
     ]
    }
   ],
   "source": [
    "lambdaa = 1\n",
    "initialCost=computeCostReg(X2, y.reshape( y.shape[0], 1), theta,lambdaa)\n",
    "print(initialCost)"
   ]
  },
  {
   "cell_type": "markdown",
   "metadata": {},
   "source": [
    "Appel des la fonction de calcul du gradient"
   ]
  },
  {
   "cell_type": "code",
   "execution_count": 13,
   "metadata": {},
   "outputs": [
    {
     "name": "stdout",
     "output_type": "stream",
     "text": [
      "Loss :  0.33711193674575085\n"
     ]
    },
    {
     "data": {
      "text/plain": [
       "Text(0, 0.5, 'Loss')"
      ]
     },
     "execution_count": 13,
     "metadata": {},
     "output_type": "execute_result"
    },
    {
     "data": {
      "image/png": "[encoded data removed]",
      "text/plain": [
       "<Figure size 432x288 with 1 Axes>"
      ]
     },
     "metadata": {
      "needs_background": "light"
     },
     "output_type": "display_data"
    }
   ],
   "source": [
    "# paramètres\n",
    "iterations = 2000\n",
    "alpha = 0.02\n",
    "\n",
    "# paramètre de regression\n",
    "lambdaa = 0.012\n",
    "\n",
    "cost =[]\n",
    "# Appel\n",
    "theta = np.zeros((n, 1))\n",
    "theta = gradientDescent(X2, y, theta, alpha, lambdaa, iterations)\n",
    "\n",
    "print('Loss : ',cost[-1])\n",
    "plt.plot(cost)\n",
    "plt.xlabel('Iterations')\n",
    "plt.ylabel('Loss')"
   ]
  },
  {
   "cell_type": "markdown",
   "metadata": {},
   "source": [
    "Traçage de la fonction du coût"
   ]
  },
  {
   "cell_type": "markdown",
   "metadata": {},
   "source": [
    "Notons que $\\theta^T  x$ est équivalent à $X  \\theta $ où $X= \\begin{pmatrix}\n",
    "..(x^{(1)})^T..\\\\\n",
    "..(x^{(2)})^T..\\\\\n",
    ".\\\\\n",
    ".\\\\\n",
    ".\\\\\n",
    "..(x^{(m)})^T..\n",
    "\\end{pmatrix} $"
   ]
  },
  {
   "cell_type": "markdown",
   "metadata": {},
   "source": [
    "# Dessin de la limite de decision (Descision Boundary)\n",
    "Dans cette partie, nous aimerions dessiner la ligne separatrice d nos données"
   ]
  },
  {
   "cell_type": "code",
   "execution_count": 14,
   "metadata": {},
   "outputs": [],
   "source": [
    "def drawCircle(theta, axes):\n",
    "    u = np.linspace(-1, 1.5, 50)\n",
    "    v = np.linspace(-1, 1.5, 50)\n",
    "    U,V = np.meshgrid(u,v)\n",
    "    #transformer U et V en vecteurs\n",
    "    U = np.ravel(U)\n",
    "    V = np.ravel(V)\n",
    "    Z = np.zeros((len(u) * len(v)))\n",
    "    intercept=np.ones((U.shape[0],1))\n",
    "    x=np.column_stack((intercept,U,V))\n",
    "    X_poly = mapping(x)\n",
    "    Z = X_poly.dot(theta)\n",
    "    \n",
    "    # reshape U, V, Z back to matrix\n",
    "    U = U.reshape((len(u), len(v)))\n",
    "    V = V.reshape((len(u), len(v)))\n",
    "    Z = Z.reshape((len(u), len(v)))\n",
    "    \n",
    "    cs = axes.contour(U,V,Z,levels=[0],cmap= \"Greys_r\")\n",
    "    axes.legend(labels=['x1', 'x2', 'Decision Boundary'])\n",
    "    return cs"
   ]
  },
  {
   "cell_type": "markdown",
   "metadata": {},
   "source": [
    "# Classification (Prédiction)\n",
    "Ici il serait interessant de calculer la prédiction en utilisant un seuil\n",
    "i.e. si h>seuil alors classe =1 sinon classe = 0"
   ]
  },
  {
   "cell_type": "code",
   "execution_count": 15,
   "metadata": {},
   "outputs": [],
   "source": [
    "def predict(X):\n",
    "    seuil=0.5\n",
    "    h = Sigmoid(X2.dot(theta))\n",
    "    h[h >= seuil] = 1\n",
    "    h[h < seuil] = 0\n",
    "    y_pred = h.reshape(h.shape[0])\n",
    "    return y_pred"
   ]
  },
  {
   "cell_type": "markdown",
   "metadata": {},
   "source": [
    "# Affichage \n",
    "Graphe representant les acceptations selon les caracteristiques"
   ]
  },
  {
   "cell_type": "code",
   "execution_count": 16,
   "metadata": {},
   "outputs": [
    {
     "data": {
      "text/plain": [
       "<matplotlib.contour.QuadContourSet at 0x1a0737f4550>"
      ]
     },
     "execution_count": 16,
     "metadata": {},
     "output_type": "execute_result"
    },
    {
     "data": {
      "image/png": "[encoded data removed]",
      "text/plain": [
       "<Figure size 432x288 with 1 Axes>"
      ]
     },
     "metadata": {
      "needs_background": "light"
     },
     "output_type": "display_data"
    }
   ],
   "source": [
    "fig, axes = plt.subplots()\n",
    "axes.set_xlabel('x 1')\n",
    "axes.set_ylabel('x 2')\n",
    "plt.scatter(X[np.where(y==1),1],X[np.where(y==1),2], label=\"y=1\",marker ='o')\n",
    "plt.scatter(X[np.where(y==0),1],X[np.where(y==0),2], label=\"y=0\",marker ='x')\n",
    "plt.xlabel('x1')\n",
    "plt.ylabel('x2')\n",
    "drawCircle(theta,axes)\n"
   ]
  },
  {
   "cell_type": "markdown",
   "metadata": {},
   "source": [
    "Traçage du coût en fonction de theta0 et theta1"
   ]
  },
  {
   "cell_type": "code",
   "execution_count": 17,
   "metadata": {},
   "outputs": [
    {
     "name": "stdout",
     "output_type": "stream",
     "text": [
      "Loss :  0.33711193674575085\n"
     ]
    },
    {
     "data": {
      "text/plain": [
       "Text(0, 0.5, 'Loss')"
      ]
     },
     "execution_count": 17,
     "metadata": {},
     "output_type": "execute_result"
    },
    {
     "data": {
      "image/png": "[encoded data removed]",
      "text/plain": [
       "<Figure size 432x288 with 1 Axes>"
      ]
     },
     "metadata": {
      "needs_background": "light"
     },
     "output_type": "display_data"
    }
   ],
   "source": [
    "print('Loss : ',cost[-1])\n",
    "plt.plot(cost)\n",
    "plt.xlabel('Iterations')\n",
    "plt.ylabel('Loss')"
   ]
  },
  {
   "cell_type": "markdown",
   "metadata": {},
   "source": [
    "# Qualité du classifieur\n",
    "\n",
    "Prédire des valeurs de y\n",
    "\n",
    "Ici il serait interessant de calculer la précision de notre classifieur\n",
    "\n",
    "Essayons de calculer ça avec \n",
    "\n",
    "moyenne(y==y-pred) * 100\n",
    "\n",
    "Ceci donnera un pourcentage de precision"
   ]
  },
  {
   "cell_type": "code",
   "execution_count": 18,
   "metadata": {},
   "outputs": [
    {
     "name": "stdout",
     "output_type": "stream",
     "text": [
      "Precision :  83.89830508474576\n"
     ]
    }
   ],
   "source": [
    "# calcul de precision = nombre de valeurs bien prédites (ici sur toute la base X)\n",
    "y_pred=predict(X)\n",
    "prcision = np.mean(y==y_pred)*100\n",
    "print('Precision : ',prcision)"
   ]
  },
  {
   "cell_type": "markdown",
   "metadata": {},
   "source": [
    "# Vérification de l'implementation\n",
    "Comparer vos algorithmes à ceux de scikitlearn"
   ]
  },
  {
   "cell_type": "code",
   "execution_count": 19,
   "metadata": {},
   "outputs": [
    {
     "name": "stdout",
     "output_type": "stream",
     "text": [
      "Precision :  64.40677966101694\n"
     ]
    },
    {
     "data": {
      "text/plain": [
       "<matplotlib.contour.QuadContourSet at 0x1a073919480>"
      ]
     },
     "execution_count": 19,
     "metadata": {},
     "output_type": "execute_result"
    },
    {
     "data": {
      "image/png": "[encoded data removed]",
      "text/plain": [
       "<Figure size 432x288 with 1 Axes>"
      ]
     },
     "metadata": {
      "needs_background": "light"
     },
     "output_type": "display_data"
    }
   ],
   "source": [
    "skmodel = sklearn.LogisticRegression(C= 0.0082)\n",
    "skmodel.fit(X2,y)\n",
    "sk_predict = skmodel.score(X2,y)\n",
    "print('Precision : ',sk_predict*100)\n",
    "fig, axes = plt.subplots()\n",
    "axes.set_xlabel('x 1')\n",
    "axes.set_ylabel('x 2')\n",
    "plt.scatter(X[np.where(y==1),1],X[np.where(y==1),2], label=\"y=1\",marker ='o')\n",
    "plt.scatter(X[np.where(y==0),1],X[np.where(y==0),2], label=\"y=0\",marker ='x')\n",
    "plt.xlabel('x1')\n",
    "plt.ylabel('x2')\n",
    "drawCircle(skmodel.coef_.T + skmodel.intercept_ ,axes)\n"
   ]
  },
  {
   "cell_type": "markdown",
   "metadata": {},
   "source": [
    "# Renforcement d'apprentissage\n",
    "Mettre ici toute idée qui pourrait renforcer votre apprentissage"
   ]
  },
  {
   "cell_type": "code",
   "execution_count": null,
   "metadata": {},
   "outputs": [],
   "source": []
  },
  {
   "cell_type": "markdown",
   "metadata": {},
   "source": [
    "# Consignes"
   ]
  },
  {
   "cell_type": "markdown",
   "metadata": {},
   "source": [
    "Le travail est à remettre par groupe de 4 au maximum [1..4].\n",
    "\n",
    "Le délai est le vendredi 01 Avril 2022 à 22h\n"
   ]
  },
  {
   "cell_type": "code",
   "execution_count": 20,
   "metadata": {},
   "outputs": [],
   "source": [
    "# bonne chance"
   ]
  }
 ],
 "metadata": {
  "kernelspec": {
   "display_name": "Python 3",
   "language": "python",
   "name": "python3"
  },
  "language_info": {
   "codemirror_mode": {
    "name": "ipython",
    "version": 3
   },
   "file_extension": ".py",
   "mimetype": "text/x-python",
   "name": "python",
   "nbconvert_exporter": "python",
   "pygments_lexer": "ipython3",
   "version": "3.10.4"
  }
 },
 "nbformat": 4,
 "nbformat_minor": 2
}
